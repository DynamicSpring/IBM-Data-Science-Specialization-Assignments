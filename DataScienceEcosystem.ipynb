{
 "cells": [
  {
   "cell_type": "markdown",
   "id": "26226290-05f4-4ec9-8ec4-7919489f309a",
   "metadata": {},
   "source": [
    "##### Exercise 2: Create markdown cell with title of the notebook\n",
    "\n",
    "##### Create a markdown cell with the title Data Science Tools and Ecosystem using H1 style heading."
   ]
  },
  {
   "cell_type": "markdown",
   "id": "422e0232-c932-4967-a55d-1b5bf1b22d14",
   "metadata": {},
   "source": [
    "# Data Science Tools and Ecosystem"
   ]
  },
  {
   "cell_type": "markdown",
   "id": "8fc78ac3-33bc-4e27-b910-71a63746f61a",
   "metadata": {},
   "source": [
    "##### Exercise 3 - Create a markdown cell for an introduction\n",
    "\n",
    "##### Write an introductory sentence about the notebook such as the follows:"
   ]
  },
  {
   "cell_type": "markdown",
   "id": "84d7d491-36bf-42c3-abee-962bd4211f28",
   "metadata": {},
   "source": [
    "### In this notebook, You will become familliar with some popular Data Science tools and Ecosystems."
   ]
  },
  {
   "cell_type": "markdown",
   "id": "27665244-fe77-4361-a8ec-61ba0795818e",
   "metadata": {},
   "source": [
    "##### Exercise 4 - Create a markdown cell to list data science languages\n",
    "\n",
    "##### Start the cell with an overview line such as:\n",
    "\n",
    "##### Some of the popular languages that Data Scientists use are:\n",
    "##### Then create an ordered list (i.e. numbered) listing 3 (or more) commonly used languages for data science."
   ]
  },
  {
   "cell_type": "markdown",
   "id": "21ae45af-7949-4423-951c-2d217251827f",
   "metadata": {},
   "source": [
    "##### 3 commonly used languages in Data Science are:\n",
    "1. Python\n",
    "2. R language\n",
    "3. Sql "
   ]
  },
  {
   "cell_type": "markdown",
   "id": "6bd19103-2377-4eaa-818e-a881546b566d",
   "metadata": {},
   "source": [
    "##### Exercise 5 - Create a markdown cell to list data science libraries\n",
    "##### 3 commonly used Libraries in Data Science include: \n",
    "1. Pandas\n",
    "2. Matplotlib\n",
    "3. NumPy"
   ]
  },
  {
   "cell_type": "markdown",
   "id": "b86c9f4b-73ac-4f07-b374-11ecf883e962",
   "metadata": {},
   "source": [
    "##### Exercise 6 - Create a markdown cell with a table of Data Science tools"
   ]
  },
  {
   "cell_type": "markdown",
   "id": "23e9904d-3067-4ce6-8d70-6caa07a84f3f",
   "metadata": {},
   "source": [
    "|Data Science Tools|\n",
    "|-----------------|\n",
    "|  Jupyter Notebook  | \n",
    "|  RStudio  |\n",
    "|  Apache Hadoop  |\n"
   ]
  },
  {
   "cell_type": "markdown",
   "id": "57642b40-50ec-45a4-beaf-9d06f6a965c7",
   "metadata": {},
   "source": [
    "##### Exercise 7 - Create a markdown cell introducing arithmetic expression examples"
   ]
  },
  {
   "cell_type": "markdown",
   "id": "a859406f-22e0-4eec-a432-e1ad856a99e4",
   "metadata": {},
   "source": [
    "### Below you will find a few evaluations of arithmetic expressions in Python:"
   ]
  },
  {
   "cell_type": "code",
   "execution_count": 8,
   "id": "35738e7e-e5f0-4bfd-b26b-8a7f9a846928",
   "metadata": {},
   "outputs": [
    {
     "data": {
      "text/plain": [
       "19.2"
      ]
     },
     "execution_count": 8,
     "metadata": {},
     "output_type": "execute_result"
    }
   ],
   "source": [
    "(24 * 4)/5"
   ]
  },
  {
   "cell_type": "code",
   "execution_count": 9,
   "id": "640e91a4-c152-4028-b55a-56d702c2e4bb",
   "metadata": {},
   "outputs": [
    {
     "data": {
      "text/plain": [
       "33"
      ]
     },
     "execution_count": 9,
     "metadata": {},
     "output_type": "execute_result"
    }
   ],
   "source": [
    "(3*12)-3"
   ]
  },
  {
   "cell_type": "code",
   "execution_count": 10,
   "id": "ad75b495-b14f-4e35-b18d-c4650a63bc4f",
   "metadata": {},
   "outputs": [
    {
     "data": {
      "text/plain": [
       "4.226415094339623"
      ]
     },
     "execution_count": 10,
     "metadata": {},
     "output_type": "execute_result"
    }
   ],
   "source": [
    "(12/53)+4"
   ]
  },
  {
   "cell_type": "markdown",
   "id": "fa8d9a7a-2f53-4ddf-8ffa-9f7b4b075ed2",
   "metadata": {},
   "source": [
    "##### Exercise 8 - Create a code cell to multiply and add numbers"
   ]
  },
  {
   "cell_type": "code",
   "execution_count": 11,
   "id": "1d8d5807-2070-43b0-a3e7-7418f0ed5dc7",
   "metadata": {},
   "outputs": [
    {
     "data": {
      "text/plain": [
       "17"
      ]
     },
     "execution_count": 11,
     "metadata": {},
     "output_type": "execute_result"
    }
   ],
   "source": [
    "# This a simple arithmetic expression to mutiply then add integers\n",
    "(3*4)+5"
   ]
  },
  {
   "cell_type": "markdown",
   "id": "8af9d451-60d2-4fda-9142-6ae7c52228e7",
   "metadata": {},
   "source": [
    "##### Exercise 9 - Create a code cell to convert minutes to hours"
   ]
  },
  {
   "cell_type": "code",
   "execution_count": 12,
   "id": "9e644642-7a13-4dc0-9217-07481935546a",
   "metadata": {},
   "outputs": [
    {
     "data": {
      "text/plain": [
       "3.3333333333333335"
      ]
     },
     "execution_count": 12,
     "metadata": {},
     "output_type": "execute_result"
    }
   ],
   "source": [
    "# this cell will convert 200 minutes into hours as an example.\n",
    "(200/60)"
   ]
  },
  {
   "cell_type": "markdown",
   "id": "9a643ba3-942b-4985-95ec-2a30fdc5cfd0",
   "metadata": {},
   "source": [
    "##### Exercise 10 - Insert a markdown cell to list Objectives"
   ]
  },
  {
   "cell_type": "markdown",
   "id": "38278de2-001a-49d0-92e2-127cea6c6a14",
   "metadata": {},
   "source": [
    "#### We will be covering many topics in this notebook that are essential to our progress in becoming Data Scientists.\n",
    "**Objectives:**\n",
    "- List popular languages used in Data Science\n",
    "- List popular libraries used in Data Science\n",
    "- List popular tools used in Data Science\n",
    "- Create Tables in Jupyter Notebook\n"
   ]
  },
  {
   "cell_type": "markdown",
   "id": "6ec2d81f-a9ba-4493-9ad2-090e30a34b70",
   "metadata": {},
   "source": [
    "##### Exercise 11 - Create a markdown cell to indicate the Author's name"
   ]
  },
  {
   "cell_type": "markdown",
   "id": "85b63e9e-27d9-461d-b09a-e1365f9b4294",
   "metadata": {},
   "source": [
    "## Author \n",
    "Sahand Pouya Bahar"
   ]
  },
  {
   "cell_type": "code",
   "execution_count": null,
   "id": "16269092-2f68-4176-8559-0a2bef73c691",
   "metadata": {},
   "outputs": [],
   "source": []
  }
 ],
 "metadata": {
  "kernelspec": {
   "display_name": "Python 3 (ipykernel)",
   "language": "python",
   "name": "python3"
  },
  "language_info": {
   "codemirror_mode": {
    "name": "ipython",
    "version": 3
   },
   "file_extension": ".py",
   "mimetype": "text/x-python",
   "name": "python",
   "nbconvert_exporter": "python",
   "pygments_lexer": "ipython3",
   "version": "3.11.5"
  }
 },
 "nbformat": 4,
 "nbformat_minor": 5
}
